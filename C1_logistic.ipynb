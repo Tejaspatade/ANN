{
 "cells": [
  {
   "cell_type": "code",
   "execution_count": 3,
   "id": "4318a872",
   "metadata": {},
   "outputs": [
    {
     "name": "stdout",
     "output_type": "stream",
     "text": [
      "Epoch 1/10\n",
      "1688/1688 [==============================] - 2s 993us/step - loss: 0.4938 - accuracy: 0.8705 - val_loss: 0.2732 - val_accuracy: 0.9258\n",
      "Epoch 2/10\n",
      "1688/1688 [==============================] - 1s 875us/step - loss: 0.3139 - accuracy: 0.9135 - val_loss: 0.2419 - val_accuracy: 0.9342\n",
      "Epoch 3/10\n",
      "1688/1688 [==============================] - 1s 858us/step - loss: 0.2918 - accuracy: 0.9191 - val_loss: 0.2349 - val_accuracy: 0.9335\n",
      "Epoch 4/10\n",
      "1688/1688 [==============================] - 1s 863us/step - loss: 0.2806 - accuracy: 0.9214 - val_loss: 0.2330 - val_accuracy: 0.9363\n",
      "Epoch 5/10\n",
      "1688/1688 [==============================] - 1s 865us/step - loss: 0.2732 - accuracy: 0.9236 - val_loss: 0.2284 - val_accuracy: 0.9372\n",
      "Epoch 6/10\n",
      "1688/1688 [==============================] - 2s 924us/step - loss: 0.2686 - accuracy: 0.9251 - val_loss: 0.2302 - val_accuracy: 0.9380\n",
      "Epoch 7/10\n",
      "1688/1688 [==============================] - 2s 965us/step - loss: 0.2642 - accuracy: 0.9269 - val_loss: 0.2278 - val_accuracy: 0.9392\n",
      "Epoch 8/10\n",
      "1688/1688 [==============================] - 2s 933us/step - loss: 0.2614 - accuracy: 0.9272 - val_loss: 0.2252 - val_accuracy: 0.9375\n",
      "Epoch 9/10\n",
      "1688/1688 [==============================] - 2s 929us/step - loss: 0.2588 - accuracy: 0.9281 - val_loss: 0.2222 - val_accuracy: 0.9408\n",
      "Epoch 10/10\n",
      "1688/1688 [==============================] - 2s 1ms/step - loss: 0.2562 - accuracy: 0.9288 - val_loss: 0.2267 - val_accuracy: 0.9380\n",
      "313/313 [==============================] - 0s 671us/step - loss: 0.2704 - accuracy: 0.9235\n",
      "Logistic regression test loss: 0.2704, test accuracy: 0.9235\n"
     ]
    }
   ],
   "source": [
    "import tensorflow as tf\n",
    "from tensorflow.keras.datasets import mnist\n",
    "from tensorflow.keras.layers import Dense, Flatten\n",
    "from tensorflow.keras.models import Sequential\n",
    "from tensorflow.keras.optimizers import Adam\n",
    "\n",
    "# Load the dataset\n",
    "(x_train, y_train), (x_test, y_test) = mnist.load_data()\n",
    "\n",
    "# Preprocess the data\n",
    "x_train = x_train / 255.0\n",
    "x_test = x_test / 255.0\n",
    "\n",
    "# Reshape the input data\n",
    "x_train = x_train.reshape((x_train.shape[0], -1))\n",
    "x_test = x_test.reshape((x_test.shape[0], -1))\n",
    "\n",
    "\n",
    "\n",
    "# Define the logistic regression model\n",
    "logistic_model = Sequential([\n",
    "    Dense(10, activation='softmax', input_shape=(784,))\n",
    "])\n",
    "\n",
    "# Compile the logistic regression model\n",
    "logistic_model.compile(optimizer=Adam(learning_rate=0.001),\n",
    "                       loss='sparse_categorical_crossentropy',\n",
    "                       metrics=['accuracy'])\n",
    "\n",
    "# Train the logistic regression model\n",
    "logistic_model.fit(x_train, y_train, validation_split=0.1, epochs=10, batch_size=32)\n",
    "\n",
    "# Evaluate the logistic regression model on the test set\n",
    "test_loss, test_acc = logistic_model.evaluate(x_test, y_test)\n",
    "print(f'Logistic regression test loss: {test_loss:.4f}, test accuracy: {test_acc:.4f}')\n"
   ]
  },
  {
   "cell_type": "code",
   "execution_count": null,
   "id": "9cc2c81b",
   "metadata": {},
   "outputs": [],
   "source": []
  }
 ],
 "metadata": {
  "kernelspec": {
   "display_name": "Python 3 (ipykernel)",
   "language": "python",
   "name": "python3"
  },
  "language_info": {
   "codemirror_mode": {
    "name": "ipython",
    "version": 3
   },
   "file_extension": ".py",
   "mimetype": "text/x-python",
   "name": "python",
   "nbconvert_exporter": "python",
   "pygments_lexer": "ipython3",
   "version": "3.9.12"
  }
 },
 "nbformat": 4,
 "nbformat_minor": 5
}
