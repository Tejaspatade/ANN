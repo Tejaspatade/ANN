{
 "cells": [
  {
   "cell_type": "code",
   "execution_count": 1,
   "id": "b5cd213f",
   "metadata": {},
   "outputs": [],
   "source": [
    "import numpy as np\n",
    "\n"
   ]
  },
  {
   "cell_type": "code",
   "execution_count": 2,
   "id": "721dfe8d",
   "metadata": {},
   "outputs": [],
   "source": [
    "# Define the sigmoid activation function\n",
    "def sigmoid(x):\n",
    "    return 1 / (1 + np.exp(-x))\n",
    "\n"
   ]
  },
  {
   "cell_type": "code",
   "execution_count": 3,
   "id": "3be1adae",
   "metadata": {},
   "outputs": [],
   "source": [
    "# Define the derivative of the sigmoid function\n",
    "def sigmoid_deriv(x):\n",
    "    return x * (1 - x)\n",
    "\n"
   ]
  },
  {
   "cell_type": "code",
   "execution_count": 4,
   "id": "aa55f678",
   "metadata": {},
   "outputs": [],
   "source": [
    "# Define the XOR function input and output\n",
    "X = np.array([[0, 0], [0, 1], [1, 0], [1, 1]])\n",
    "y = np.array([[0], [1], [1], [0]])\n",
    "\n"
   ]
  },
  {
   "cell_type": "code",
   "execution_count": 5,
   "id": "3dfd1f57",
   "metadata": {},
   "outputs": [],
   "source": [
    "# Define the network architecture\n",
    "input_layer_size = 2\n",
    "hidden_layer_size = 2\n",
    "output_layer_size = 1\n",
    "\n"
   ]
  },
  {
   "cell_type": "code",
   "execution_count": 6,
   "id": "43675c6d",
   "metadata": {},
   "outputs": [],
   "source": [
    "# Initialize the weights with random values\n",
    "weights1 = np.random.randn(input_layer_size, hidden_layer_size)\n",
    "weights2 = np.random.randn(hidden_layer_size, output_layer_size)\n",
    "\n"
   ]
  },
  {
   "cell_type": "code",
   "execution_count": 7,
   "id": "ddcc01b7",
   "metadata": {},
   "outputs": [],
   "source": [
    "# Set the learning rate and number of iterations\n",
    "learning_rate = 0.1\n",
    "num_iterations = 10000\n",
    "\n"
   ]
  },
  {
   "cell_type": "code",
   "execution_count": 8,
   "id": "90ce82b4",
   "metadata": {},
   "outputs": [],
   "source": [
    "# Train the network using backpropagation\n",
    "for i in range(num_iterations):\n",
    "    # Forward pass\n",
    "    layer1 = sigmoid(np.dot(X, weights1))\n",
    "    output = sigmoid(np.dot(layer1, weights2))\n",
    "    \n",
    "    # Compute the error\n",
    "    error = y - output\n",
    "    \n",
    "    # Backward pass\n",
    "    output_delta = error * sigmoid_deriv(output)\n",
    "    layer1_error = output_delta.dot(weights2.T)\n",
    "    layer1_delta = layer1_error * sigmoid_deriv(layer1)\n",
    "    \n",
    "    # Update the weights\n",
    "    weights2 += layer1.T.dot(output_delta) * learning_rate\n",
    "    weights1 += X.T.dot(layer1_delta) * learning_rate\n",
    "    \n"
   ]
  },
  {
   "cell_type": "code",
   "execution_count": 16,
   "id": "4feab8e1",
   "metadata": {},
   "outputs": [
    {
     "name": "stdout",
     "output_type": "stream",
     "text": [
      "XOR function output:\n",
      "[[1.]\n",
      " [1.]\n",
      " [0.]\n",
      " [0.]]\n"
     ]
    }
   ],
   "source": [
    "# Test the network\n",
    "test_input = np.array([[0, 0], [0, 1], [1, 0], [1, 1]])\n",
    "test_output = sigmoid(np.dot(sigmoid(np.dot(test_input, weights1)), weights2))\n",
    "f_output = np.round(test_output)\n",
    "print('XOR function output:')\n",
    "print(np.round(test_output))\n"
   ]
  },
  {
   "cell_type": "code",
   "execution_count": 17,
   "id": "0e7ddd3c",
   "metadata": {},
   "outputs": [],
   "source": [
    "f_out = f_output.flatten()"
   ]
  },
  {
   "cell_type": "code",
   "execution_count": 21,
   "id": "96797f1a",
   "metadata": {},
   "outputs": [
    {
     "data": {
      "text/plain": [
       "[1.0, 1.0, 0.0, 0.0]"
      ]
     },
     "execution_count": 21,
     "metadata": {},
     "output_type": "execute_result"
    }
   ],
   "source": [
    "list(f_out)"
   ]
  },
  {
   "cell_type": "code",
   "execution_count": null,
   "id": "c00b9b89",
   "metadata": {},
   "outputs": [],
   "source": []
  }
 ],
 "metadata": {
  "kernelspec": {
   "display_name": "Python 3 (ipykernel)",
   "language": "python",
   "name": "python3"
  },
  "language_info": {
   "codemirror_mode": {
    "name": "ipython",
    "version": 3
   },
   "file_extension": ".py",
   "mimetype": "text/x-python",
   "name": "python",
   "nbconvert_exporter": "python",
   "pygments_lexer": "ipython3",
   "version": "3.9.12"
  }
 },
 "nbformat": 4,
 "nbformat_minor": 5
}
