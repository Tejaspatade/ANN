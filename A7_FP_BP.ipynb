{
 "cells": [
  {
   "cell_type": "code",
   "execution_count": 1,
   "id": "fa99187f",
   "metadata": {},
   "outputs": [],
   "source": [
    "import numpy as np\n",
    "\n",
    "class NeuralNetwork:\n",
    "    def __init__(self, input_size, hidden_size, output_size):\n",
    "        self.input_size = input_size\n",
    "        self.hidden_size = hidden_size\n",
    "        self.output_size = output_size\n",
    "\n",
    "        # Initialize weights\n",
    "        self.W1 = np.random.randn(self.input_size, self.hidden_size)\n",
    "        self.W2 = np.random.randn(self.hidden_size, self.output_size)\n",
    "\n",
    "    def forward(self, X):\n",
    "        # Forward propagation\n",
    "        self.z1 = np.dot(X, self.W1)\n",
    "        self.a1 = self.sigmoid(self.z1)\n",
    "        self.z2 = np.dot(self.a1, self.W2)\n",
    "        self.y_hat = self.sigmoid(self.z2)\n",
    "\n",
    "        return self.y_hat\n",
    "\n",
    "    def backward(self, X, y, y_hat, learning_rate):\n",
    "        # Backward propagation\n",
    "        error = y - y_hat\n",
    "        delta_output = error * self.sigmoid_derivative(y_hat)\n",
    "        delta_hidden = np.dot(delta_output, self.W2.T) * self.sigmoid_derivative(self.a1)\n",
    "\n",
    "        # Update weights\n",
    "        self.W2 += learning_rate * np.dot(self.a1.T, delta_output)\n",
    "        self.W1 += learning_rate * np.dot(X.T, delta_hidden)\n",
    "\n",
    "    def train(self, X, y, epochs, learning_rate):\n",
    "        for i in range(epochs):\n",
    "            y_hat = self.forward(X)\n",
    "            self.backward(X, y, y_hat, learning_rate)\n",
    "\n",
    "    def sigmoid(self, z):\n",
    "        return 1 / (1 + np.exp(-z))\n",
    "\n",
    "    def sigmoid_derivative(self, z):\n",
    "        return z * (1 - z)\n"
   ]
  },
  {
   "cell_type": "code",
   "execution_count": 2,
   "id": "cb679c53",
   "metadata": {},
   "outputs": [
    {
     "name": "stdout",
     "output_type": "stream",
     "text": [
      "[0.04136219]\n",
      "[0.75293155]\n",
      "[0.75280517]\n",
      "[0.36471213]\n"
     ]
    }
   ],
   "source": [
    "\n",
    "nn = NeuralNetwork(2, 3, 1)\n",
    "\n",
    "# Define training data (XOR function)\n",
    "X = np.array([[0, 0], [0, 1], [1, 0], [1, 1]])\n",
    "y = np.array([[0], [1], [1], [0]])\n",
    "\n",
    "# Train the neural network\n",
    "nn.train(X, y, epochs=10000, learning_rate=0.1)\n",
    "\n",
    "# Test the neural network\n",
    "print(nn.forward(np.array([0, 0])))  \n",
    "print(nn.forward(np.array([0, 1])))  \n",
    "print(nn.forward(np.array([1, 0])))  \n",
    "print(nn.forward(np.array([1, 1])))  \n"
   ]
  },
  {
   "cell_type": "code",
   "execution_count": null,
   "id": "2f6000de",
   "metadata": {},
   "outputs": [],
   "source": []
  }
 ],
 "metadata": {
  "kernelspec": {
   "display_name": "Python 3 (ipykernel)",
   "language": "python",
   "name": "python3"
  },
  "language_info": {
   "codemirror_mode": {
    "name": "ipython",
    "version": 3
   },
   "file_extension": ".py",
   "mimetype": "text/x-python",
   "name": "python",
   "nbconvert_exporter": "python",
   "pygments_lexer": "ipython3",
   "version": "3.9.7"
  }
 },
 "nbformat": 4,
 "nbformat_minor": 5
}
