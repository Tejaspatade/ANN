{
 "cells": [
  {
   "cell_type": "code",
   "execution_count": 1,
   "id": "0c9b58bf",
   "metadata": {},
   "outputs": [
    {
     "name": "stdout",
     "output_type": "stream",
     "text": [
      "ANDNOT Function\n",
      "x1\tx2\toutput\n",
      "0\t0\t0\n",
      "0\t1\t1\n",
      "1\t0\t0\n",
      "1\t1\t0\n"
     ]
    }
   ],
   "source": [
    "import numpy as np\n",
    "\n",
    "def mp_neuron(weights,inputs,threshold):\n",
    "  weighted_sum=np.dot(weights,inputs)\n",
    "  return int(weighted_sum>threshold)\n",
    "\n",
    "x1=[0,0,1,1]\n",
    "x2=[0,1,0,1]\n",
    "\n",
    "andnot_weights=[-1,2]\n",
    "andnot_threshold=1\n",
    "\n",
    "andnot_outputs=[mp_neuron(andnot_weights, [x1[i],x2[i]],andnot_threshold)for i in range(len(x1))]\n",
    "\n",
    "print(\"ANDNOT Function\")\n",
    "print(\"x1\\tx2\\toutput\")\n",
    "for i in range(len(x1)):\n",
    "  print(\"{}\\t{}\\t{}\".format(x1[i],x2[i],andnot_outputs[i]))"
   ]
  },
  {
   "cell_type": "code",
   "execution_count": null,
   "id": "22386ff8",
   "metadata": {},
   "outputs": [],
   "source": []
  }
 ],
 "metadata": {
  "kernelspec": {
   "display_name": "Python 3 (ipykernel)",
   "language": "python",
   "name": "python3"
  },
  "language_info": {
   "codemirror_mode": {
    "name": "ipython",
    "version": 3
   },
   "file_extension": ".py",
   "mimetype": "text/x-python",
   "name": "python",
   "nbconvert_exporter": "python",
   "pygments_lexer": "ipython3",
   "version": "3.9.7"
  }
 },
 "nbformat": 4,
 "nbformat_minor": 5
}
