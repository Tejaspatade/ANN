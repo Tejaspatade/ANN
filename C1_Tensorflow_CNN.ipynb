{
 "cells": [
  {
   "cell_type": "code",
   "execution_count": 1,
   "id": "2dec7edc",
   "metadata": {},
   "outputs": [
    {
     "name": "stdout",
     "output_type": "stream",
     "text": [
      "Epoch 1/10\n",
      "1688/1688 [==============================] - 21s 12ms/step - loss: 0.1499 - accuracy: 0.9544 - val_loss: 0.0466 - val_accuracy: 0.9872\n",
      "Epoch 2/10\n",
      "1688/1688 [==============================] - 20s 12ms/step - loss: 0.0473 - accuracy: 0.9851 - val_loss: 0.0407 - val_accuracy: 0.9892\n",
      "Epoch 3/10\n",
      "1688/1688 [==============================] - 21s 12ms/step - loss: 0.0330 - accuracy: 0.9894 - val_loss: 0.0372 - val_accuracy: 0.9895\n",
      "Epoch 4/10\n",
      "1688/1688 [==============================] - 20s 12ms/step - loss: 0.0250 - accuracy: 0.9916 - val_loss: 0.0397 - val_accuracy: 0.9905\n",
      "Epoch 5/10\n",
      "1688/1688 [==============================] - 20s 12ms/step - loss: 0.0176 - accuracy: 0.9942 - val_loss: 0.0412 - val_accuracy: 0.9897\n",
      "Epoch 6/10\n",
      "1688/1688 [==============================] - 20s 12ms/step - loss: 0.0144 - accuracy: 0.9948 - val_loss: 0.0375 - val_accuracy: 0.9917\n",
      "Epoch 7/10\n",
      "1688/1688 [==============================] - 20s 12ms/step - loss: 0.0114 - accuracy: 0.9958 - val_loss: 0.0408 - val_accuracy: 0.9905\n",
      "Epoch 8/10\n",
      "1688/1688 [==============================] - 20s 12ms/step - loss: 0.0087 - accuracy: 0.9970 - val_loss: 0.0450 - val_accuracy: 0.9907\n",
      "Epoch 9/10\n",
      "1688/1688 [==============================] - 21s 12ms/step - loss: 0.0073 - accuracy: 0.9976 - val_loss: 0.0522 - val_accuracy: 0.9885\n",
      "Epoch 10/10\n",
      "1688/1688 [==============================] - 21s 12ms/step - loss: 0.0076 - accuracy: 0.9976 - val_loss: 0.0390 - val_accuracy: 0.9915\n",
      "313/313 [==============================] - 1s 3ms/step - loss: 0.0373 - accuracy: 0.9890\n",
      "Test loss: 0.0373, test accuracy: 0.9890\n"
     ]
    }
   ],
   "source": [
    "import tensorflow as tf\n",
    "from tensorflow.keras.datasets import mnist\n",
    "from tensorflow.keras.layers import Conv2D, Dense, Flatten, MaxPooling2D\n",
    "from tensorflow.keras.models import Sequential\n",
    "from tensorflow.keras.optimizers import Adam\n",
    "\n",
    "# Load the dataset\n",
    "(x_train, y_train), (x_test, y_test) = mnist.load_data()\n",
    "\n",
    "# Preprocess the data\n",
    "x_train = x_train / 255.0\n",
    "x_test = x_test / 255.0\n",
    "\n",
    "# Reshape the input data to have a channel dimension\n",
    "x_train = x_train.reshape((x_train.shape[0], 28, 28, 1))\n",
    "x_test = x_test.reshape((x_test.shape[0], 28, 28, 1))\n",
    "\n",
    "# Define the CNN model\n",
    "model = Sequential([\n",
    "    Conv2D(32, (3, 3), activation='relu', input_shape=(28, 28, 1)),\n",
    "    MaxPooling2D((2, 2)),\n",
    "    Conv2D(64, (3, 3), activation='relu'),\n",
    "    MaxPooling2D((2, 2)),\n",
    "    Flatten(),\n",
    "    Dense(64, activation='relu'),\n",
    "    Dense(10, activation='softmax')\n",
    "])\n",
    "\n",
    "# Compile the model\n",
    "model.compile(optimizer=Adam(learning_rate=0.001),\n",
    "              loss='sparse_categorical_crossentropy',\n",
    "              metrics=['accuracy'])\n",
    "\n",
    "# Train the model\n",
    "model.fit(x_train, y_train, validation_split=0.1, epochs=10, batch_size=32)\n",
    "\n",
    "# Evaluate the model on the test set\n",
    "test_loss, test_acc = model.evaluate(x_test, y_test)\n",
    "print(f'Test loss: {test_loss:.4f}, test accuracy: {test_acc:.4f}')\n"
   ]
  },
  {
   "cell_type": "code",
   "execution_count": null,
   "id": "ee47dd68",
   "metadata": {},
   "outputs": [],
   "source": []
  }
 ],
 "metadata": {
  "kernelspec": {
   "display_name": "Python 3 (ipykernel)",
   "language": "python",
   "name": "python3"
  },
  "language_info": {
   "codemirror_mode": {
    "name": "ipython",
    "version": 3
   },
   "file_extension": ".py",
   "mimetype": "text/x-python",
   "name": "python",
   "nbconvert_exporter": "python",
   "pygments_lexer": "ipython3",
   "version": "3.9.12"
  }
 },
 "nbformat": 4,
 "nbformat_minor": 5
}
