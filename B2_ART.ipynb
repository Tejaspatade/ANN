{
 "cells": [
  {
   "cell_type": "code",
   "execution_count": 1,
   "id": "4f5b9b8e",
   "metadata": {},
   "outputs": [],
   "source": [
    "import numpy as np\n",
    "\n",
    "class ART:\n",
    "    def __init__(self, num_input, rho=0.5, alpha=0.1):\n",
    "        self.num_input = num_input\n",
    "        self.rho = rho\n",
    "        self.alpha = alpha\n",
    "        self.W = np.zeros((num_input,))\n",
    "        self.V = self.rho * np.linalg.norm(self.W)\n",
    "        \n",
    "    def train(self, input_pattern):\n",
    "        input_pattern = input_pattern / np.linalg.norm(input_pattern)\n",
    "        similarity = np.dot(self.W, input_pattern)\n",
    "        if similarity < self.V:\n",
    "            self.W = (1 - self.alpha) * self.W + self.alpha * input_pattern\n",
    "            self.V = self.rho * np.linalg.norm(self.W)\n",
    "            \n",
    "    def predict(self, input_pattern):\n",
    "        input_pattern = input_pattern / np.linalg.norm(input_pattern)\n",
    "        similarity = np.dot(self.W, input_pattern)\n",
    "        return similarity >= self.V\n"
   ]
  },
  {
   "cell_type": "code",
   "execution_count": 8,
   "id": "bff29340",
   "metadata": {},
   "outputs": [
    {
     "name": "stdout",
     "output_type": "stream",
     "text": [
      "True\n",
      "True\n",
      "True\n",
      "True\n"
     ]
    }
   ],
   "source": [
    "# Create an ART network with 3 inputs\n",
    "art = ART(num_input=3)\n",
    "\n",
    "# Train the network on some input patterns\n",
    "art.train(np.array([1, 0, 0]))\n",
    "art.train(np.array([0, 1, 0]))\n",
    "art.train(np.array([0, 0, 1]))\n",
    "\n",
    "# Predict whether some input patterns are similar to existing categories\n",
    "print(art.predict(np.array([0.9, 0.1, 0])))  # Output: True\n",
    "print(art.predict(np.array([0.1, 0.9, 0])))  # Output: True\n",
    "print(art.predict(np.array([0, 0, 1])))  # Output: True\n",
    "print(art.predict(np.array([10, 20, 5])))  # Output: False\n"
   ]
  },
  {
   "cell_type": "code",
   "execution_count": null,
   "id": "2d96ec31",
   "metadata": {},
   "outputs": [],
   "source": []
  }
 ],
 "metadata": {
  "kernelspec": {
   "display_name": "Python 3 (ipykernel)",
   "language": "python",
   "name": "python3"
  },
  "language_info": {
   "codemirror_mode": {
    "name": "ipython",
    "version": 3
   },
   "file_extension": ".py",
   "mimetype": "text/x-python",
   "name": "python",
   "nbconvert_exporter": "python",
   "pygments_lexer": "ipython3",
   "version": "3.9.12"
  }
 },
 "nbformat": 4,
 "nbformat_minor": 5
}
